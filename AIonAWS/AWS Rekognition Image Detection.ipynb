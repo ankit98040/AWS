{
 "cells": [
  {
   "cell_type": "code",
   "execution_count": 18,
   "metadata": {},
   "outputs": [],
   "source": [
    "#webcam photo click\n",
    "import cv2\n",
    "import boto3\n"
   ]
  },
  {
   "cell_type": "code",
   "execution_count": 19,
   "metadata": {},
   "outputs": [
    {
     "data": {
      "text/plain": [
       "s3.ServiceResource()"
      ]
     },
     "execution_count": 19,
     "metadata": {},
     "output_type": "execute_result"
    }
   ],
   "source": [
    "s3"
   ]
  },
  {
   "cell_type": "code",
   "execution_count": 33,
   "metadata": {},
   "outputs": [],
   "source": [
    "cap = cv2.VideoCapture(0)\n",
    "#activates the camera \n",
    "#0 for internal webcam, 1 for any external web cam"
   ]
  },
  {
   "cell_type": "code",
   "execution_count": 34,
   "metadata": {},
   "outputs": [
    {
     "name": "stdout",
     "output_type": "stream",
     "text": [
      "True\n"
     ]
    }
   ],
   "source": [
    "myphoto = \"ankit.jpg\"\n",
    "ret , photo = cap.read()\n",
    "#clicks the photo\n",
    "print(ret)\n",
    "cv2.imwrite(myphoto, photo)\n",
    "cap.release()\n",
    "#releases the camera"
   ]
  },
  {
   "cell_type": "code",
   "execution_count": 35,
   "metadata": {},
   "outputs": [],
   "source": [
    "#uploading image to s3\n",
    "region = \"ap-southeast-1\"\n",
    "bucket = \"aiawsankit\"\n",
    "s3 = boto3.resource('s3')\n",
    "s3.Bucket(bucket).upload_file(myphoto, \"file.jpg\")"
   ]
  },
  {
   "cell_type": "code",
   "execution_count": 36,
   "metadata": {},
   "outputs": [],
   "source": [
    "#connect rek: ask for method\n",
    "rek = boto3.client('rekognition', region)\n",
    "#client => resource\n",
    "#but resource only has a few service so for other services, we use client"
   ]
  },
  {
   "cell_type": "code",
   "execution_count": 37,
   "metadata": {},
   "outputs": [],
   "source": [
    "upimage = \"file.jpg\""
   ]
  },
  {
   "cell_type": "code",
   "execution_count": 38,
   "metadata": {},
   "outputs": [],
   "source": [
    "response = rek.detect_labels(\n",
    "    Image={\n",
    "              'S3Object': {\n",
    "                  'Bucket': bucket,\n",
    "                  'Name': upimage\n",
    "              }\n",
    "          },\n",
    "          MaxLabels=10,\n",
    "          MinConfidence=90\n",
    ")"
   ]
  },
  {
   "cell_type": "code",
   "execution_count": 39,
   "metadata": {},
   "outputs": [
    {
     "name": "stdout",
     "output_type": "stream",
     "text": [
      "Face\n",
      "Person\n",
      "Human\n",
      "Interior Design\n",
      "Indoors\n"
     ]
    }
   ],
   "source": [
    "#response\n",
    "for i in range(5):\n",
    "    print( response['Labels'][i]['Name'])"
   ]
  },
  {
   "cell_type": "code",
   "execution_count": 59,
   "metadata": {},
   "outputs": [],
   "source": [
    "#to detect faces\n",
    "\n",
    "resfaces = rek.detect_faces(\n",
    "    Image={\n",
    "          'S3Object': {\n",
    "              'Bucket': bucket,\n",
    "              'Name': upimage\n",
    "          }\n",
    "      },\n",
    "      Attributes=[\n",
    "          'ALL',\n",
    "      ]\n",
    ")"
   ]
  },
  {
   "cell_type": "code",
   "execution_count": 65,
   "metadata": {},
   "outputs": [
    {
     "data": {
      "text/plain": [
       "{'BoundingBox': {'Width': 0.1915665566921234,\n",
       "  'Height': 0.4448046386241913,\n",
       "  'Left': 0.4805448651313782,\n",
       "  'Top': 0.24046096205711365},\n",
       " 'AgeRange': {'Low': 22, 'High': 34},\n",
       " 'Smile': {'Value': False, 'Confidence': 99.09756469726562},\n",
       " 'Eyeglasses': {'Value': False, 'Confidence': 98.98988342285156},\n",
       " 'Sunglasses': {'Value': False, 'Confidence': 99.46315002441406},\n",
       " 'Gender': {'Value': 'Male', 'Confidence': 99.84687805175781},\n",
       " 'Beard': {'Value': True, 'Confidence': 93.76734161376953},\n",
       " 'Mustache': {'Value': False, 'Confidence': 55.738853454589844},\n",
       " 'EyesOpen': {'Value': True, 'Confidence': 97.78722381591797},\n",
       " 'MouthOpen': {'Value': False, 'Confidence': 74.67373657226562},\n",
       " 'Emotions': [{'Type': 'CALM', 'Confidence': 97.77073669433594},\n",
       "  {'Type': 'SAD', 'Confidence': 0.6525990962982178},\n",
       "  {'Type': 'SURPRISED', 'Confidence': 0.36671438813209534},\n",
       "  {'Type': 'FEAR', 'Confidence': 0.34184029698371887},\n",
       "  {'Type': 'DISGUSTED', 'Confidence': 0.30399441719055176},\n",
       "  {'Type': 'CONFUSED', 'Confidence': 0.2314671128988266},\n",
       "  {'Type': 'ANGRY', 'Confidence': 0.18541552126407623},\n",
       "  {'Type': 'HAPPY', 'Confidence': 0.14723969995975494}],\n",
       " 'Landmarks': [{'Type': 'eyeLeft',\n",
       "   'X': 0.5514229536056519,\n",
       "   'Y': 0.3887261152267456},\n",
       "  {'Type': 'eyeRight', 'X': 0.6361223459243774, 'Y': 0.4111962914466858},\n",
       "  {'Type': 'mouthLeft', 'X': 0.5500693917274475, 'Y': 0.5437427759170532},\n",
       "  {'Type': 'mouthRight', 'X': 0.620743989944458, 'Y': 0.5622861385345459},\n",
       "  {'Type': 'nose', 'X': 0.6005327105522156, 'Y': 0.4635899066925049},\n",
       "  {'Type': 'leftEyeBrowLeft',\n",
       "   'X': 0.5176552534103394,\n",
       "   'Y': 0.35168296098709106},\n",
       "  {'Type': 'leftEyeBrowRight',\n",
       "   'X': 0.549363911151886,\n",
       "   'Y': 0.3302910327911377},\n",
       "  {'Type': 'leftEyeBrowUp', 'X': 0.5754936933517456, 'Y': 0.34143826365470886},\n",
       "  {'Type': 'rightEyeBrowLeft',\n",
       "   'X': 0.6239768862724304,\n",
       "   'Y': 0.3542228937149048},\n",
       "  {'Type': 'rightEyeBrowRight',\n",
       "   'X': 0.6468907594680786,\n",
       "   'Y': 0.35582873225212097},\n",
       "  {'Type': 'rightEyeBrowUp', 'X': 0.6645706295967102, 'Y': 0.3899177014827728},\n",
       "  {'Type': 'leftEyeLeft', 'X': 0.5348599553108215, 'Y': 0.38653564453125},\n",
       "  {'Type': 'leftEyeRight', 'X': 0.5678543448448181, 'Y': 0.3946910500526428},\n",
       "  {'Type': 'leftEyeUp', 'X': 0.5521289110183716, 'Y': 0.38006681203842163},\n",
       "  {'Type': 'leftEyeDown', 'X': 0.5513283014297485, 'Y': 0.3957275450229645},\n",
       "  {'Type': 'rightEyeLeft', 'X': 0.6189998388290405, 'Y': 0.4082391560077667},\n",
       "  {'Type': 'rightEyeRight', 'X': 0.6494462490081787, 'Y': 0.41654714941978455},\n",
       "  {'Type': 'rightEyeUp', 'X': 0.6371210217475891, 'Y': 0.402495414018631},\n",
       "  {'Type': 'rightEyeDown', 'X': 0.6350922584533691, 'Y': 0.41771137714385986},\n",
       "  {'Type': 'noseLeft', 'X': 0.5759764909744263, 'Y': 0.4881828725337982},\n",
       "  {'Type': 'noseRight', 'X': 0.607161819934845, 'Y': 0.4960843324661255},\n",
       "  {'Type': 'mouthUp', 'X': 0.5904926061630249, 'Y': 0.5270436406135559},\n",
       "  {'Type': 'mouthDown', 'X': 0.5860505700111389, 'Y': 0.5761458277702332},\n",
       "  {'Type': 'leftPupil', 'X': 0.5514229536056519, 'Y': 0.3887261152267456},\n",
       "  {'Type': 'rightPupil', 'X': 0.6361223459243774, 'Y': 0.4111962914466858},\n",
       "  {'Type': 'upperJawlineLeft',\n",
       "   'X': 0.48320093750953674,\n",
       "   'Y': 0.40640848875045776},\n",
       "  {'Type': 'midJawlineLeft', 'X': 0.4928344786167145, 'Y': 0.5748602151870728},\n",
       "  {'Type': 'chinBottom', 'X': 0.5760904550552368, 'Y': 0.6640617251396179},\n",
       "  {'Type': 'midJawlineRight',\n",
       "   'X': 0.6418226957321167,\n",
       "   'Y': 0.6123427748680115},\n",
       "  {'Type': 'upperJawlineRight',\n",
       "   'X': 0.6672903299331665,\n",
       "   'Y': 0.45377108454704285}],\n",
       " 'Pose': {'Roll': 10.880340576171875,\n",
       "  'Yaw': 6.611825466156006,\n",
       "  'Pitch': 18.982601165771484},\n",
       " 'Quality': {'Brightness': 57.30076599121094, 'Sharpness': 83.14741516113281},\n",
       " 'Confidence': 99.99930572509766}"
      ]
     },
     "execution_count": 65,
     "metadata": {},
     "output_type": "execute_result"
    }
   ],
   "source": [
    "resfaces['FaceDetails'][0]"
   ]
  },
  {
   "cell_type": "code",
   "execution_count": null,
   "metadata": {},
   "outputs": [],
   "source": []
  }
 ],
 "metadata": {
  "kernelspec": {
   "display_name": "Python 3",
   "language": "python",
   "name": "python3"
  },
  "language_info": {
   "codemirror_mode": {
    "name": "ipython",
    "version": 3
   },
   "file_extension": ".py",
   "mimetype": "text/x-python",
   "name": "python",
   "nbconvert_exporter": "python",
   "pygments_lexer": "ipython3",
   "version": "3.7.6"
  }
 },
 "nbformat": 4,
 "nbformat_minor": 4
}
